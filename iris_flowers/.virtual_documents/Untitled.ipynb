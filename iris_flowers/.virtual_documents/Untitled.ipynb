import numpy as np
import matplotlib.pyplot as plt
import seaborn as sns
import pandas as pd



df = pd.read_csv('./IRIS.csv')
df.head()





df.describe()


df.isnull().sum()


# Visualize the dataset
sns.pairplot(df, hue='species')


# Separate features and target  
data = df.values
X = data[:,0:4]
Y = data[:,4]


# Calculate average of each features for all classes
Y_Data = np.array([np.average(X[:, i][Y==j].astype('float32')) for i in range (X.shape[1])
 for j in (np.unique(Y))])
Y_Data_reshaped = Y_Data.reshape(4, 3)
Y_Data_reshaped = np.swapaxes(Y_Data_reshaped, 0, 1)
X_axis = np.arange(len(columns)-1)
width = 0.25


# Plot the average
plt.bar(X_axis, Y_Data_reshaped[0], width, label = 'Setosa')
plt.bar(X_axis+width, Y_Data_reshaped[1], width, label = 'Versicolour')
plt.bar(X_axis+width*2, Y_Data_reshaped[2], width, label = 'Virginica')
plt.xticks(X_axis, columns[:4])
plt.xlabel("Features")
plt.ylabel("Value (cm)")
plt.legend(bbox_to_anchor=(1.3,1))
plt.show()





# Split the data to train and test dataset.
from sklearn.model_selection import train_test_split
X_train, X_test, y_train, y_test = train_test_split(X, Y, test_size=0.2)


from sklearn.svm import SVC
model = SVC()
model.fit(X_train, y_train)


# Predict from the test dataset
predictions = model.predict(X_test)

# Calculate the accuracy
from sklearn.metrics import accuracy_score

accuracy_score(y_test, predictions)



from sklearn.metrics import classification_report

print(classification_report(y_test, predictions))



new_data = np.array([[3, 2, 1, 0.2], [5.3, 2.5, 4.6, 1.9], [4.9, 2.2, 3.8, 1.1]])

prediction = model.predict(new_data)

print(f"Prediction result:\n {prediction}")






