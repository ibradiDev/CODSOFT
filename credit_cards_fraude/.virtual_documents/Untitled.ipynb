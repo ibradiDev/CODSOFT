import numpy as np
import pandas as pd
import matplotlib.pyplot as plt
import itertools
from collections import Counter

from sklearn.preprocessing import StandardScaler
from sklearn.model_selection import train_test_split
from sklearn.ensemble import RandomForestClassifier
from sklearn.metrics import accuracy_score, precision_score, confusion_matrix, recall_score, f1_score


df = pd.read_csv("./creditcard.csv")
df.head()


df.info()


df.isnull().sum()


df["Amount"].describe()


non_fraud = len(df[df.Class == 0])
fraud = len(df[df.Class == 1])
fraud_percent = (fraud / (fraud + non_fraud)) * 100

print("Number of Genuine transactions: ", non_fraud)
print("Number of Fraud transactions: ", fraud)
print("Percentage of Fraud transactions: {:.4f}".format(fraud_percent))


# Visualize the "Labels" column

labels = ["Genuine", "Fraud"]

count_classes = df.value_counts(df['Class'], sort= True)
count_classes.plot(kind = "bar", rot = 0)

plt.title("Visualization of Labels")
plt.ylabel("Count")
plt.xticks(range(2), labels)
plt.show()


# Perform Scaling
scaler = StandardScaler()
df["NormalizedAmount"] = scaler.fit_transform(df["Amount"].values.reshape(-1, 1))
df.drop(["Amount", "Time"], inplace= True, axis= 1)

Y = df["Class"]
X = df.drop(["Class"], axis= 1)





train_X, test_X, train_Y, test_Y = train_test_split(X, Y, test_size= 0.3, random_state= 42)


model = RandomForestClassifier(n_estimators= 100)

model.fit(train_X, train_Y)
predictions = random_forest.predict(test_X)

score = random_forest.score(test_X, test_Y) * 100



print("Score: ", random_forest_score)




