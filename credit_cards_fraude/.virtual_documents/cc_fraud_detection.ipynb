import numpy as np
import pandas as pd
import matplotlib.pyplot as plt
import itertools
from collections import Counter

from sklearn.preprocessing import StandardScaler



df = pd.read_csv("./creditcard.csv")
df.head()


df.info()


df.isnull().sum()


df["Amount"].describe()


non_fraud = len(df[df.Class == 0])
fraud = len(df[df.Class == 1])
fraud_percent = (fraud / (fraud + non_fraud)) * 100

print(f"Number of Genuine transactions: {non_fraud}")
print(f"Number of Fraud transactions: {fraud}")
print("Percentage of Fraud transactions: {:.4f}".format(fraud_percent))


# Visualize the "Labels" column

labels = ["Genuine", "Fraud"]

count_classes = df.value_counts(df['Class'], sort= True)
count_classes.plot(kind = "bar", rot = 0)

plt.title("Visualization of Labels")
plt.ylabel("Count")
plt.xticks(range(2), labels)
plt.show()


# Perform Scaling
scaler = StandardScaler()
df["NormalizedAmount"] = scaler.fit_transform(df["Amount"].values.reshape(-1, 1))
df.drop(["Amount", "Time"], inplace= True, axis= 1)

Y = df["Class"]
X = df.drop(["Class"], axis= 1)





from sklearn.model_selection import train_test_split
from sklearn.ensemble import RandomForestClassifier
from sklearn.metrics import accuracy_score, precision_score, confusion_matrix, recall_score, f1_score


X_train, X_test, y_train, y_test = train_test_split(X, Y, test_size= 0.3, random_state= 42)


model = RandomForestClassifier(n_estimators= 100)
model.fit(X_train, y_train)

predictions = model.predict(X_test)


# Evaluation of the model
accuracy = accuracy_score(y_test, predictions)
precision = precision_score(y_test, predictions)
recall = recall_score(y_test, predictions)
f1 = f1_score(y_test, predictions)



print(f"Accuracy: {accuracy * 100 }")
print(f"Precision: {precision * 100 }")
print(f"f1 Score: {f1 * 100 :.2f}")
print(f"Recall: {recall * 100 }")





data = np.array([[0.237609, 
                  0.377436,
                  -1.387024,
                  0.237609, 
                  0.377436,
                  -1.387024,
                  0.277838,
                  -0.110474,
                  0.066928,
                  0.128539,
                  -0.189115,
                  0.133558,
                  -0.021053,
                  149.62,
                  -0.018307,
                  0.277838,
                  -0.110474,
                  0.066928,
                  0.128539,
                  -0.189115,
                  0.133558,
                  0.237609, 
                  0.377436,
                  -1.387024,
                  0.277838,
                  -0.110474,
                  0.066928,
                  0.128539,
                  0.128539,
                 ]])
pred = model.predict(data)

print(f"Pred res : {pred}")



