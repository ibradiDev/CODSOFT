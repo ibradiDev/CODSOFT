import pandas as pd

file_path = './Titanic-Dataset.csv'
titanic_data = pd.read_csv(file_path)

titanic_data.head()






from sklearn.preprocessing import LabelEncoder
from sklearn.impute import SimpleImputer

# Impute missing Age values with the median
age_imputer = SimpleImputer(strategy='median')
titanic_data['Age'] = age_imputer.fit_transform(titanic_data[['Age']])

# Impute missing Embarked values with the most frequent value
embarked_imputer = SimpleImputer(strategy='most_frequent')
titanic_data['Embarked'] = embarked_imputer.fit_transform(titanic_data[['Embarked']])

# Drop the Cabin column as it has too many missing values
titanic_data = titanic_data.drop(columns=['Cabin'])

# Encode categorical variables
label_encoder = LabelEncoder()
titanic_data['Sex'] = label_encoder.fit_transform(titanic_data['Sex'])
titanic_data['Embarked'] = label_encoder.fit_transform(titanic_data['Embarked'])

titanic_data.head()




