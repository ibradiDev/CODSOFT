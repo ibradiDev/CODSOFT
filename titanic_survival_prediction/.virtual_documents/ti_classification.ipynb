import pandas as pd

dataset = './Titanic-Dataset.csv'
titanic_data = pd.read_csv(dataset)

titanic_data.head()






titanic_data.isnull().sum()


from sklearn.preprocessing import LabelEncoder
from sklearn.impute import SimpleImputer

# Impute missing Age values with the median
age_imputer = SimpleImputer(strategy='median')
titanic_data['Age'] = age_imputer.fit_transform(titanic_data[['Age']])

# Impute missing Embarked values with the most frequent value
embarked_imputer = SimpleImputer(strategy='most_frequent')
# titanic_data['Embarked'] = embarked_imputer.fit_transform(titanic_data[['Embarked']])

# Drop the Cabin column as it has too many missing values
titanic_data = titanic_data.drop(columns=['Cabin'])

# Encode categorical variables
label_encoder = LabelEncoder()
titanic_data['Sex'] = label_encoder.fit_transform(titanic_data['Sex'])
titanic_data['Embarked'] = label_encoder.fit_transform(titanic_data['Embarked'])

titanic_data.head()



from sklearn.model_selection import train_test_split
from sklearn.ensemble import RandomForestClassifier
from sklearn.metrics import accuracy_score, precision_score, recall_score, f1_score

# Select features and target
features = ['Pclass', 'Sex', 'Age', 'SibSp', 'Parch', 'Fare', 'Embarked']

X = titanic_data[features]
y = titanic_data['Survived']

# Split the data into training and testing sets
X_train, X_test, y_train, y_test = train_test_split(X, y, test_size=0.2, random_state=42)

# Train the model & Make predictions
model = RandomForestClassifier(random_state=42)
model.fit(X_train, y_train)

y_pred = model.predict(X_test)

# Evaluation of the model
accuracy = accuracy_score(y_test, y_pred)
precision = precision_score(y_test, y_pred)
recall = recall_score(y_test, y_pred)
f1 = f1_score(y_test, y_pred)

accuracy, precision, recall, f1






import matplotlib.pyplot as plt
import seaborn as sns

# Get feature importances
feature_importances = model.feature_importances_

# Create a DataFrame for visualization
importance_df = pd.DataFrame({'Feature': features, 'Importance': feature_importances})

# Sort the DataFrame by importance
importance_df = importance_df.sort_values(by='Importance', ascending=False)

# Plot the feature importances
plt.figure(figsize=(10, 6))
sns.barplot(x='Importance', y='Feature', data=importance_df)
plt.title('Feature Importances')
plt.show()




